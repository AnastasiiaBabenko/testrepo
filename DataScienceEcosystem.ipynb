{
 "cells": [
  {
   "cell_type": "markdown",
   "id": "4c2f50b5-6705-45af-b9cd-84e9c95de663",
   "metadata": {},
   "source": [
    "# Data Science Tools and Ecosystem #"
   ]
  },
  {
   "cell_type": "markdown",
   "id": "e65591f0-cc26-4715-b3f6-edac4cb36bfc",
   "metadata": {},
   "source": [
    " In this notebook, Data Science Tools and Ecosystem are summarized. "
   ]
  },
  {
   "cell_type": "markdown",
   "id": "e4d4d6ca-1005-4179-acb9-4468b3e3e329",
   "metadata": {},
   "source": [
    "### Objectives: ###\n",
    "- List popular languages for Data Science\n",
    "- Commonly using libraries\n",
    "- Tools for Data Science"
   ]
  },
  {
   "cell_type": "markdown",
   "id": "8b445226-e2b8-46f6-84fa-f00a6057298f",
   "metadata": {},
   "source": [
    "### Some of the popular languages that Data Scientists use are: ###\n",
    "* SQL\n",
    "* R\n",
    "* Python\n",
    "* Julia"
   ]
  },
  {
   "cell_type": "markdown",
   "id": "5fcc2634-27c7-4125-9a4d-0a54f00d80f1",
   "metadata": {},
   "source": [
    "### Some of the commonly used libraries used by Data Scientists include: ###\n",
    "1. Pandas \n",
    "2. NumPy \n",
    "3. Matplotlib\n",
    "4. Scikit-learn\n",
    "5. TensorFlow\n"
   ]
  },
  {
   "cell_type": "markdown",
   "id": "3be40db4-1b8f-41a8-9e01-f80fd6946b47",
   "metadata": {},
   "source": [
    "| Data Science Tools |\n",
    "|--------------------|\n",
    "| Jupyter Notebook   |\n",
    "| RStudio            |\n",
    "| Apache Zeppelin    |\n"
   ]
  },
  {
   "cell_type": "markdown",
   "id": "61f04ac0-8eef-4635-a340-71280384f3ab",
   "metadata": {},
   "source": [
    "### Below are a few examples of evaluating arithmetic expressions in Python ###"
   ]
  },
  {
   "cell_type": "code",
   "execution_count": 3,
   "id": "5519d255-23fe-4ba3-ad3a-d15b19f24d8a",
   "metadata": {},
   "outputs": [
    {
     "data": {
      "text/plain": [
       "17"
      ]
     },
     "execution_count": 3,
     "metadata": {},
     "output_type": "execute_result"
    }
   ],
   "source": [
    "(3*4)+5\n",
    "# This a simple arithmetic expression to mutiply then add integers\n"
   ]
  },
  {
   "cell_type": "code",
   "execution_count": 4,
   "id": "25a1f4ed-ac6a-4598-9382-ec29308cbb14",
   "metadata": {},
   "outputs": [
    {
     "data": {
      "text/plain": [
       "3.3333333333333335"
      ]
     },
     "execution_count": 4,
     "metadata": {},
     "output_type": "execute_result"
    }
   ],
   "source": [
    "minutes = 200\n",
    "hours = minutes / 60\n",
    "hours\n",
    "# This will convert 200 minutes to hours by diving by 60"
   ]
  },
  {
   "cell_type": "markdown",
   "id": "28957da6-0f6c-4ee7-8b89-d1939eab65af",
   "metadata": {},
   "source": [
    "## Author ##\n",
    "Anastasiia Babenko"
   ]
  },
  {
   "cell_type": "code",
   "execution_count": null,
   "id": "404a0d79-3c5e-4291-8646-72ebd672e8c1",
   "metadata": {},
   "outputs": [],
   "source": []
  }
 ],
 "metadata": {
  "kernelspec": {
   "display_name": "Python 3 (ipykernel)",
   "language": "python",
   "name": "python3"
  },
  "language_info": {
   "codemirror_mode": {
    "name": "ipython",
    "version": 3
   },
   "file_extension": ".py",
   "mimetype": "text/x-python",
   "name": "python",
   "nbconvert_exporter": "python",
   "pygments_lexer": "ipython3",
   "version": "3.11.9"
  }
 },
 "nbformat": 4,
 "nbformat_minor": 5
}
